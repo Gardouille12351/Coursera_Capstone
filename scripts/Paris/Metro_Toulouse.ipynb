{
 "cells": [
  {
   "cell_type": "markdown",
   "metadata": {},
   "source": [
    "# Clustering Metro Station in Toulouse"
   ]
  },
  {
   "cell_type": "markdown",
   "metadata": {},
   "source": [
    "This capstone project is completed as part of the IBM Data Science Professional Certificate."
   ]
  },
  {
   "cell_type": "markdown",
   "metadata": {},
   "source": [
    "## 0. Business Problem and Data"
   ]
  },
  {
   "cell_type": "markdown",
   "metadata": {},
   "source": [
    "The business problem that will be considered in this project is as follow:\n",
    "\n",
    "we imagine a scenario in which an investor wishes to find a suitable place for installing **a new cinema** in the city of Toulouse in France. This person is a foreign investor and it is therefore central that a detailed analysis of the city is provided. If the person would be a local, the importance of identifying similar regions in a city would not be that central as the local person normally already knows more or less which place would be more adequate. In fact, it seems that the location of a cinema is far from being straight forward. Indeed, unlike a cafe place or a restaurant, it is less common and its location certainly belongs to its most important features. \n",
    "\n",
    "Accordingly, we identify the following reqirements:\n",
    "* the cinema should be in an area within walking distance of a metro station.\n",
    "* the cinema should be in an area that encompasses other relevant businesses (restaurant, bars, etc.).\n",
    "* the cinema should be in an area that is densely populated.\n",
    "\n",
    "\n",
    "From the above-mentionned requirements, we identify the following needs in terms of **data**:\n",
    "* we need to cluster the metro station and find the type of venues in a radius of 500m from the metro station.\n",
    "* we need to find census data about the number of people living in which area.\n",
    "\n",
    "The **source for those data** will be the following:\n",
    "* location of metro station: https://data.toulouse-metropole.fr/explore/dataset/stations-de-metro/export/\n",
    "* census data: https://data.toulouse-metropole.fr/explore/dataset/recensement-population-2016-grands-quartiers-population/information/\n",
    "* **Foursquare API** will also provide us with the required data of the venues surrounding metro stations.\n",
    "\n",
    "*(note that additional census data can be found on the same website)*\n",
    "\n",
    "In order to find the venues surrounding the metro station, we will use the Foursquare API and specify the radius to be equal to 500m (walking distance).\n",
    "\n",
    "The project will thereore be structured as follow:\n",
    "1. Get location of metro stations\n",
    "2. Using the foursquare API, identify all venues in a 500 m radius and extract their categories. Then derive the frequency of each categories per metro station. Find cinemas.\n",
    "3. Using the k-Means algorithm, identify similar metro station where \"similarity\" is defined by the categories of surrounding venues.\n",
    "4. Analyze the most present venues' categories and find a suitable place for a cinema by also considering census data. \n",
    "5. Provide a recommendation for potential investors.\n",
    "\n",
    "Used Libraries:\n",
    "\n",
    "* folium\n",
    "* geopandas\n",
    "* pandas\n",
    "* numpy\n",
    "* scikit-learns\n"
   ]
  },
  {
   "cell_type": "code",
   "execution_count": null,
   "metadata": {},
   "outputs": [],
   "source": []
  },
  {
   "cell_type": "code",
   "execution_count": null,
   "metadata": {},
   "outputs": [],
   "source": []
  },
  {
   "cell_type": "code",
   "execution_count": null,
   "metadata": {},
   "outputs": [],
   "source": []
  },
  {
   "cell_type": "code",
   "execution_count": null,
   "metadata": {},
   "outputs": [],
   "source": []
  },
  {
   "cell_type": "code",
   "execution_count": null,
   "metadata": {},
   "outputs": [],
   "source": []
  },
  {
   "cell_type": "code",
   "execution_count": null,
   "metadata": {},
   "outputs": [],
   "source": []
  },
  {
   "cell_type": "code",
   "execution_count": null,
   "metadata": {},
   "outputs": [],
   "source": []
  },
  {
   "cell_type": "code",
   "execution_count": null,
   "metadata": {},
   "outputs": [],
   "source": []
  }
 ],
 "metadata": {
  "kernelspec": {
   "display_name": "Python 3",
   "language": "python",
   "name": "python3"
  },
  "language_info": {
   "codemirror_mode": {
    "name": "ipython",
    "version": 3
   },
   "file_extension": ".py",
   "mimetype": "text/x-python",
   "name": "python",
   "nbconvert_exporter": "python",
   "pygments_lexer": "ipython3",
   "version": "3.7.6"
  }
 },
 "nbformat": 4,
 "nbformat_minor": 4
}
